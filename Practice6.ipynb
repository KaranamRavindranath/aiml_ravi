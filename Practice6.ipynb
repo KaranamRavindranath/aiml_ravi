{
 "cells": [
  {
   "cell_type": "code",
   "execution_count": 1,
   "id": "65b39a8c-ac24-44a4-98b6-677f36dfc71c",
   "metadata": {},
   "outputs": [],
   "source": [
    "import numpy as np"
   ]
  },
  {
   "cell_type": "code",
   "execution_count": 3,
   "id": "91b7cef6-ae31-42c2-9c42-474bb5367e19",
   "metadata": {},
   "outputs": [
    {
     "name": "stdout",
     "output_type": "stream",
     "text": [
      "[40 67 57 90]\n",
      "<class 'numpy.ndarray'>\n",
      "int32\n"
     ]
    }
   ],
   "source": [
    "x = np.array([40,67,57,90])\n",
    "print(x)\n",
    "print(type(x))\n",
    "print(x.dtype)"
   ]
  },
  {
   "cell_type": "code",
   "execution_count": 5,
   "id": "1474b518-44f5-4e2a-bd46-c6e7d12d5590",
   "metadata": {},
   "outputs": [
    {
     "name": "stdout",
     "output_type": "stream",
     "text": [
      "['A' '67' '57' '9.8']\n",
      "<class 'numpy.ndarray'>\n",
      "<U32\n"
     ]
    }
   ],
   "source": [
    "x = np.array([\"A\",67,57,9.8])\n",
    "print(x)\n",
    "print(type(x))\n",
    "print(x.dtype)"
   ]
  },
  {
   "cell_type": "code",
   "execution_count": 9,
   "id": "afef975c-d5f4-442e-ae04-7099ef43fc7a",
   "metadata": {},
   "outputs": [
    {
     "name": "stdout",
     "output_type": "stream",
     "text": [
      "[[10 20]\n",
      " [30 40]]\n",
      "(2, 2)\n"
     ]
    }
   ],
   "source": [
    "#Reshaping an array\n",
    "a = np.array([10,20,30,40])\n",
    "b = a.reshape(2,2)\n",
    "print(b)\n",
    "print(b.shape)"
   ]
  },
  {
   "cell_type": "code",
   "execution_count": 33,
   "id": "c408a4b3-1792-4e5d-b511-672df4629d60",
   "metadata": {},
   "outputs": [
    {
     "ename": "AttributeError",
     "evalue": "module 'numpy' has no attribute 'arrange'",
     "output_type": "error",
     "traceback": [
      "\u001b[1;31m---------------------------------------------------------------------------\u001b[0m",
      "\u001b[1;31mAttributeError\u001b[0m                            Traceback (most recent call last)",
      "Cell \u001b[1;32mIn[33], line 1\u001b[0m\n\u001b[1;32m----> 1\u001b[0m c \u001b[38;5;241m=\u001b[39m np\u001b[38;5;241m.\u001b[39marrange[(\u001b[38;5;241m3\u001b[39m,\u001b[38;5;241m20\u001b[39m)]\n\u001b[0;32m      2\u001b[0m \u001b[38;5;28mprint\u001b[39m(c)\n\u001b[0;32m      3\u001b[0m \u001b[38;5;28mtype\u001b[39m(c)\n",
      "File \u001b[1;32m~\\anaconda3\\Lib\\site-packages\\numpy\\__init__.py:333\u001b[0m, in \u001b[0;36m__getattr__\u001b[1;34m(attr)\u001b[0m\n\u001b[0;32m    330\u001b[0m     \u001b[38;5;124m\"\u001b[39m\u001b[38;5;124mRemoved in NumPy 1.25.0\u001b[39m\u001b[38;5;124m\"\u001b[39m\n\u001b[0;32m    331\u001b[0m     \u001b[38;5;28;01mraise\u001b[39;00m \u001b[38;5;167;01mRuntimeError\u001b[39;00m(\u001b[38;5;124m\"\u001b[39m\u001b[38;5;124mTester was removed in NumPy 1.25.\u001b[39m\u001b[38;5;124m\"\u001b[39m)\n\u001b[1;32m--> 333\u001b[0m \u001b[38;5;28;01mraise\u001b[39;00m \u001b[38;5;167;01mAttributeError\u001b[39;00m(\u001b[38;5;124m\"\u001b[39m\u001b[38;5;124mmodule \u001b[39m\u001b[38;5;132;01m{!r}\u001b[39;00m\u001b[38;5;124m has no attribute \u001b[39m\u001b[38;5;124m\"\u001b[39m\n\u001b[0;32m    334\u001b[0m                      \u001b[38;5;124m\"\u001b[39m\u001b[38;5;132;01m{!r}\u001b[39;00m\u001b[38;5;124m\"\u001b[39m\u001b[38;5;241m.\u001b[39mformat(\u001b[38;5;18m__name__\u001b[39m, attr))\n",
      "\u001b[1;31mAttributeError\u001b[0m: module 'numpy' has no attribute 'arrange'"
     ]
    }
   ],
   "source": [
    "c = np.arrange(3,20)\n",
    "print(c)\n",
    "type(c)"
   ]
  },
  {
   "cell_type": "code",
   "execution_count": 11,
   "id": "7c4e6bf7-eb2b-4805-b9f3-8969cff6041e",
   "metadata": {},
   "outputs": [
    {
     "name": "stdout",
     "output_type": "stream",
     "text": [
      "[[3 4 5 6]\n",
      " [7 2 8 5]]\n"
     ]
    },
    {
     "data": {
      "text/plain": [
       "dtype('int32')"
      ]
     },
     "execution_count": 11,
     "metadata": {},
     "output_type": "execute_result"
    }
   ],
   "source": [
    "# Use astype() to convert the data type\n",
    "a1 = np.array([[3,4,5,6],[7,2,8,5]])\n",
    "print(a1)\n",
    "a1.dtype"
   ]
  },
  {
   "cell_type": "code",
   "execution_count": 23,
   "id": "8ec86b4b-19f0-447f-a20d-cc688fad4656",
   "metadata": {},
   "outputs": [
    {
     "ename": "AttributeError",
     "evalue": "module 'numpy' has no attribute 'arrange'",
     "output_type": "error",
     "traceback": [
      "\u001b[1;31m---------------------------------------------------------------------------\u001b[0m",
      "\u001b[1;31mAttributeError\u001b[0m                            Traceback (most recent call last)",
      "Cell \u001b[1;32mIn[23], line 1\u001b[0m\n\u001b[1;32m----> 1\u001b[0m c \u001b[38;5;241m=\u001b[39m np\u001b[38;5;241m.\u001b[39marrange(\u001b[38;5;241m3\u001b[39m,\u001b[38;5;241m20\u001b[39m)\n\u001b[0;32m      2\u001b[0m \u001b[38;5;28mprint\u001b[39m(c)\n\u001b[0;32m      3\u001b[0m \u001b[38;5;28mtype\u001b[39m(c)\n",
      "File \u001b[1;32m~\\anaconda3\\Lib\\site-packages\\numpy\\__init__.py:333\u001b[0m, in \u001b[0;36m__getattr__\u001b[1;34m(attr)\u001b[0m\n\u001b[0;32m    330\u001b[0m     \u001b[38;5;124m\"\u001b[39m\u001b[38;5;124mRemoved in NumPy 1.25.0\u001b[39m\u001b[38;5;124m\"\u001b[39m\n\u001b[0;32m    331\u001b[0m     \u001b[38;5;28;01mraise\u001b[39;00m \u001b[38;5;167;01mRuntimeError\u001b[39;00m(\u001b[38;5;124m\"\u001b[39m\u001b[38;5;124mTester was removed in NumPy 1.25.\u001b[39m\u001b[38;5;124m\"\u001b[39m)\n\u001b[1;32m--> 333\u001b[0m \u001b[38;5;28;01mraise\u001b[39;00m \u001b[38;5;167;01mAttributeError\u001b[39;00m(\u001b[38;5;124m\"\u001b[39m\u001b[38;5;124mmodule \u001b[39m\u001b[38;5;132;01m{!r}\u001b[39;00m\u001b[38;5;124m has no attribute \u001b[39m\u001b[38;5;124m\"\u001b[39m\n\u001b[0;32m    334\u001b[0m                      \u001b[38;5;124m\"\u001b[39m\u001b[38;5;132;01m{!r}\u001b[39;00m\u001b[38;5;124m\"\u001b[39m\u001b[38;5;241m.\u001b[39mformat(\u001b[38;5;18m__name__\u001b[39m, attr))\n",
      "\u001b[1;31mAttributeError\u001b[0m: module 'numpy' has no attribute 'arrange'"
     ]
    }
   ],
   "source": [
    "c = np.arrange(3,20)\n",
    "print(c)\n",
    "type(c)"
   ]
  },
  {
   "cell_type": "code",
   "execution_count": 19,
   "id": "8cf66743-1b55-43e1-9686-51e83147eaf7",
   "metadata": {},
   "outputs": [
    {
     "data": {
      "text/plain": [
       "array([[ 3,  4,  6],\n",
       "       [ 7,  9, 10],\n",
       "       [ 4,  6, 12]])"
      ]
     },
     "execution_count": 19,
     "metadata": {},
     "output_type": "execute_result"
    }
   ],
   "source": [
    "a2 = np.array([[3,4,6],[7,9,10],[4,6,12]])\n",
    "a2"
   ]
  },
  {
   "cell_type": "code",
   "execution_count": 21,
   "id": "d1489cf7-9ee2-4234-b480-5d99896cbef2",
   "metadata": {},
   "outputs": [
    {
     "name": "stdout",
     "output_type": "stream",
     "text": [
      "[13 26 22]\n",
      "[14 19 28]\n"
     ]
    }
   ],
   "source": [
    "print(a2.sum(axis = 1))\n",
    "print(a2.sum(axis = 0))"
   ]
  },
  {
   "cell_type": "code",
   "execution_count": 27,
   "id": "8385267f-f82f-4c3e-bdd6-f57ad6d0e2f4",
   "metadata": {},
   "outputs": [
    {
     "name": "stdout",
     "output_type": "stream",
     "text": [
      "[[ 3  4  6]\n",
      " [ 7  9 10]\n",
      " [ 4  6 12]]\n",
      "[4.33333333 8.66666667 7.33333333]\n",
      "[4.66666667 6.33333333 9.33333333]\n"
     ]
    }
   ],
   "source": [
    "print(a2)\n",
    "print(np.mean(a2, axis = 1))\n",
    "print(np.mean(a2, axis = 0))"
   ]
  },
  {
   "cell_type": "code",
   "execution_count": 31,
   "id": "b0e8a25d-06ae-466b-a99f-1e0455512a10",
   "metadata": {},
   "outputs": [
    {
     "name": "stdout",
     "output_type": "stream",
     "text": [
      "[[3 4 5]\n",
      " [7 2 8]\n",
      " [9 1 6]]\n",
      "[[0 4 5]\n",
      " [7 0 8]\n",
      " [9 1 0]]\n"
     ]
    }
   ],
   "source": [
    "a3 = np.array([[3,4,5],[7,2,8],[9,1,6]])\n",
    "print(a3)\n",
    "np.fill_diagonal(a3,0)\n",
    "print(a3)"
   ]
  },
  {
   "cell_type": "code",
   "execution_count": 43,
   "id": "3c4cc13a-8af7-49a7-b6fc-5bec225a758c",
   "metadata": {},
   "outputs": [
    {
     "ename": "SyntaxError",
     "evalue": "invalid syntax (2989985494.py, line 2)",
     "output_type": "error",
     "traceback": [
      "\u001b[1;36m  Cell \u001b[1;32mIn[43], line 2\u001b[1;36m\u001b[0m\n\u001b[1;33m    print([1:3],[0:2])\u001b[0m\n\u001b[1;37m            ^\u001b[0m\n\u001b[1;31mSyntaxError\u001b[0m\u001b[1;31m:\u001b[0m invalid syntax\n"
     ]
    }
   ],
   "source": [
    "a4 = np.array([3,4,5],[7,9,4],[9,1,6],[10,9,18])\n",
    "print([1:3],[0:2])"
   ]
  },
  {
   "cell_type": "code",
   "execution_count": null,
   "id": "a27eae10-19d5-46be-99c7-ecee228e2014",
   "metadata": {},
   "outputs": [],
   "source": []
  }
 ],
 "metadata": {
  "kernelspec": {
   "display_name": "Python [conda env:base] *",
   "language": "python",
   "name": "conda-base-py"
  },
  "language_info": {
   "codemirror_mode": {
    "name": "ipython",
    "version": 3
   },
   "file_extension": ".py",
   "mimetype": "text/x-python",
   "name": "python",
   "nbconvert_exporter": "python",
   "pygments_lexer": "ipython3",
   "version": "3.12.7"
  }
 },
 "nbformat": 4,
 "nbformat_minor": 5
}
