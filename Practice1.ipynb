{
 "cells": [
  {
   "cell_type": "code",
   "execution_count": 3,
   "id": "72390ebf-f3ac-4298-85be-f661b7f4d00a",
   "metadata": {},
   "outputs": [
    {
     "name": "stdout",
     "output_type": "stream",
     "text": [
      "[1, 2, 3, 4]\n"
     ]
    }
   ],
   "source": [
    "my_list = [1, 2, 3, 4]\n",
    "print (my_list)"
   ]
  },
  {
   "cell_type": "code",
   "execution_count": 3,
   "id": "f94e109f-3365-4aa8-aa91-0709fd3d90ca",
   "metadata": {},
   "outputs": [
    {
     "name": "stdout",
     "output_type": "stream",
     "text": [
      "[['apple', 10], ['banana', 5], ['cherry', 10], ['dragon', 10], ['green', 8]]\n"
     ]
    }
   ],
   "source": [
    "# Update the quality of an item (\"cherry\" to 10)\n",
    "orders = [['apple',10],['banana',5],['cherry',7],['dragon',10],['green',8]]\n",
    "for each in orders:\n",
    "    if each[0] == 'cherry':\n",
    "        each[1] = 10\n",
    "print(orders)"
   ]
  },
  {
   "cell_type": "code",
   "execution_count": 5,
   "id": "05b95bf0-dbf5-485a-b572-ab3c1ac13be9",
   "metadata": {},
   "outputs": [
    {
     "name": "stdout",
     "output_type": "stream",
     "text": [
      "[['apple', 10], ['banana', 5], ['cherry', 7], ['dragon', 10], ['green', 8], ['apple', 15], ['apple', 15]]\n",
      "[10, 15, 15]\n",
      "40\n"
     ]
    }
   ],
   "source": [
    "orders.append([\"apple\",15])\n",
    "print(orders)\n",
    "total = []\n",
    "for each_item in orders:\n",
    "    if each_item[0] == \"apple\":\n",
    "        total.append(each_item[1])\n",
    "print(total)\n",
    "print(sum(total))"
   ]
  },
  {
   "cell_type": "code",
   "execution_count": null,
   "id": "e2197710-0639-4e57-bbd1-0d14568b9c17",
   "metadata": {},
   "outputs": [],
   "source": [
    "orders.append([\"apple\",15])\n",
    "print(orders)\n",
    "total = []\n",
    "for each_item in orders:\n",
    "    if each_item[0] == \"apple\":\n",
    "        total.append(each_item[1])\n",
    "print(total)\n",
    "print(sum(total))"
   ]
  },
  {
   "cell_type": "code",
   "execution_count": 3,
   "id": "2588fe5f-349a-437a-a5b5-d5d616fcf912",
   "metadata": {},
   "outputs": [
    {
     "name": "stdout",
     "output_type": "stream",
     "text": [
      "[['apple', 10], ['banana', 5], ['cherry', 7], ['dragon', 10], ['green', 8], ['apple', 15]]\n",
      "[10, 15]\n",
      "25\n"
     ]
    }
   ],
   "source": [
    "orders = [['apple',10],['banana',5],['cherry',7],['dragon',10],['green',8]]\n",
    "orders.append([\"apple\",15])\n",
    "print(orders)\n",
    "total = []\n",
    "for each_item in orders:\n",
    "    if each_item[0] == \"apple\":\n",
    "        total.append(each_item[1])\n",
    "print(total)\n",
    "print(sum(total))"
   ]
  },
  {
   "cell_type": "code",
   "execution_count": 35,
   "id": "3f513b9d-2abe-458b-b157-8d40b0b292a5",
   "metadata": {},
   "outputs": [
    {
     "name": "stdout",
     "output_type": "stream",
     "text": [
      "(4, 10, 9, 'A', 9, 81, False, (9-6j))\n",
      "<class 'tuple'>\n",
      "(9, 81)\n"
     ]
    }
   ],
   "source": [
    "tup1 = (4,10,9,\"A\",9,81, False, 9-6j)\n",
    "print(tup1)\n",
    "print(type(tup1))\n",
    "print(tup1[4:6])"
   ]
  },
  {
   "cell_type": "code",
   "execution_count": 43,
   "id": "5a1744fd-e35b-43a8-ade2-c4ba5f8ec2a7",
   "metadata": {},
   "outputs": [
    {
     "data": {
      "text/plain": [
       "4"
      ]
     },
     "execution_count": 43,
     "metadata": {},
     "output_type": "execute_result"
    }
   ],
   "source": [
    "tup2 = (10,20,1,10,10,30,10)\n",
    "tup2.count(10)"
   ]
  },
  {
   "cell_type": "code",
   "execution_count": 1,
   "id": "f8dc19a7-1617-426e-bc0b-8e8519713086",
   "metadata": {},
   "outputs": [],
   "source": [
    "scores = {'Virat':90, 'Rohit':100, 'Rahul':7, 'Hardik':9, 'Gill':20, 'Jadeja':30, 'Siraj':15}"
   ]
  },
  {
   "cell_type": "code",
   "execution_count": 3,
   "id": "41d3e87b-5aac-4dbe-a83a-934a24980296",
   "metadata": {},
   "outputs": [
    {
     "data": {
      "text/plain": [
       "{'Virat': 90,\n",
       " 'Rohit': 100,\n",
       " 'Rahul': 7,\n",
       " 'Hardik': 9,\n",
       " 'Gill': 20,\n",
       " 'Jadeja': 30,\n",
       " 'Siraj': 15,\n",
       " 'Ashwin': 50}"
      ]
     },
     "execution_count": 3,
     "metadata": {},
     "output_type": "execute_result"
    }
   ],
   "source": [
    "scores.update({'Ashwin':50})\n",
    "scores"
   ]
  },
  {
   "cell_type": "code",
   "execution_count": 5,
   "id": "852e15bc-7427-46da-8e06-3ac193ae1661",
   "metadata": {},
   "outputs": [
    {
     "data": {
      "text/plain": [
       "{'Virat': 90,\n",
       " 'Rohit': 100,\n",
       " 'Rahul': 7,\n",
       " 'Hardik': 9,\n",
       " 'Gill': 20,\n",
       " 'Jadeja': 75,\n",
       " 'Siraj': 15,\n",
       " 'Ashwin': 50}"
      ]
     },
     "execution_count": 5,
     "metadata": {},
     "output_type": "execute_result"
    }
   ],
   "source": [
    "scores.update({'Jadeja':75})\n",
    "scores"
   ]
  },
  {
   "cell_type": "code",
   "execution_count": 7,
   "id": "bc0b6441-5849-49ea-a162-5813aa667b65",
   "metadata": {},
   "outputs": [
    {
     "data": {
      "text/plain": [
       "{'Virat': 90,\n",
       " 'Rohit': 100,\n",
       " 'Rahul': 7,\n",
       " 'Hardik': 9,\n",
       " 'Gill': 20,\n",
       " 'Jadeja': 75,\n",
       " 'Siraj': 15,\n",
       " 'Ashwin': 50,\n",
       " 'Rahane': 65}"
      ]
     },
     "execution_count": 7,
     "metadata": {},
     "output_type": "execute_result"
    }
   ],
   "source": [
    "scores.update({'Rahane':65})\n",
    "scores"
   ]
  },
  {
   "cell_type": "code",
   "execution_count": 11,
   "id": "ed7ae677-7e77-4cab-8f39-f6f7e1d5f95f",
   "metadata": {},
   "outputs": [
    {
     "data": {
      "text/plain": [
       "{'A': 10, 'B': 10, 'C': 10, 'D': 10}"
      ]
     },
     "execution_count": 11,
     "metadata": {},
     "output_type": "execute_result"
    }
   ],
   "source": [
    "list1 = [\"A\",\"B\",\"C\",\"D\"]\n",
    "my_dict = dict.fromkeys(list1,10)\n",
    "my_dict"
   ]
  },
  {
   "cell_type": "code",
   "execution_count": 13,
   "id": "1ee16c27-2ebc-443b-b7c4-ac0d7d24c7e7",
   "metadata": {},
   "outputs": [
    {
     "name": "stdout",
     "output_type": "stream",
     "text": [
      "[90, 100, 7, 9, 20, 75, 15, 50, 65]\n",
      "Total Score:  431\n"
     ]
    }
   ],
   "source": [
    "scores_list = []\n",
    "for v in scores.values():\n",
    "    scores_list.append(v)\n",
    "print(scores_list)\n",
    "print(\"Total Score: \",sum(scores_list))"
   ]
  },
  {
   "cell_type": "code",
   "execution_count": null,
   "id": "cc2b5831-a707-417a-91eb-75fdf1465e46",
   "metadata": {},
   "outputs": [],
   "source": []
  }
 ],
 "metadata": {
  "kernelspec": {
   "display_name": "Python [conda env:base] *",
   "language": "python",
   "name": "conda-base-py"
  },
  "language_info": {
   "codemirror_mode": {
    "name": "ipython",
    "version": 3
   },
   "file_extension": ".py",
   "mimetype": "text/x-python",
   "name": "python",
   "nbconvert_exporter": "python",
   "pygments_lexer": "ipython3",
   "version": "3.12.7"
  }
 },
 "nbformat": 4,
 "nbformat_minor": 5
}
