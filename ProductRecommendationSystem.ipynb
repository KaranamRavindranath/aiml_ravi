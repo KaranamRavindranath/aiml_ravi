{
 "cells": [
  {
   "cell_type": "code",
   "execution_count": 1,
   "id": "6deef884-b812-49c5-8b19-dfcd7ad2b218",
   "metadata": {},
   "outputs": [],
   "source": [
    "#Load the libraries\n",
    "import pandas as pd\n",
    "import numpy as np\n",
    "import matplotlib.pyplot as plt\n",
    "import seaborn as sns"
   ]
  },
  {
   "cell_type": "code",
   "execution_count": 3,
   "id": "54a53324-72dc-4012-acbe-401a27a2459a",
   "metadata": {},
   "outputs": [
    {
     "name": "stdout",
     "output_type": "stream",
     "text": [
      "           UserId    ProductId  Rating   Timestamp\n",
      "0       User44084  Product8646       3  1513224892\n",
      "1       User32096  Product2879       3  1396046321\n",
      "2       User48182  Product2150       3  1430840372\n",
      "3       User48214  Product4226       4  1264279238\n",
      "4       User27633  Product5750       3  1530777749\n",
      "...           ...          ...     ...         ...\n",
      "100071  User28844  Product7689       5  1528133693\n",
      "100072  User24768  Product6914       5  1627781180\n",
      "100073   User9547  Product2205       3  1501029965\n",
      "100074  User47066  Product4386       2  1311893418\n",
      "100075  User26984  Product3638       4  1274091928\n",
      "\n",
      "[100076 rows x 4 columns]\n"
     ]
    }
   ],
   "source": [
    "data = pd.read_csv(\"Product_Ratings_Dataset.csv\")\n",
    "print(data)"
   ]
  },
  {
   "cell_type": "code",
   "execution_count": 5,
   "id": "063c149e-f089-4b04-a134-78029774821f",
   "metadata": {},
   "outputs": [
    {
     "data": {
      "text/html": [
       "<div>\n",
       "<style scoped>\n",
       "    .dataframe tbody tr th:only-of-type {\n",
       "        vertical-align: middle;\n",
       "    }\n",
       "\n",
       "    .dataframe tbody tr th {\n",
       "        vertical-align: top;\n",
       "    }\n",
       "\n",
       "    .dataframe thead th {\n",
       "        text-align: right;\n",
       "    }\n",
       "</style>\n",
       "<table border=\"1\" class=\"dataframe\">\n",
       "  <thead>\n",
       "    <tr style=\"text-align: right;\">\n",
       "      <th></th>\n",
       "      <th>UserId</th>\n",
       "      <th>ProductId</th>\n",
       "      <th>Rating</th>\n",
       "      <th>Timestamp</th>\n",
       "    </tr>\n",
       "  </thead>\n",
       "  <tbody>\n",
       "    <tr>\n",
       "      <th>100071</th>\n",
       "      <td>User28844</td>\n",
       "      <td>Product7689</td>\n",
       "      <td>5</td>\n",
       "      <td>1528133693</td>\n",
       "    </tr>\n",
       "    <tr>\n",
       "      <th>100072</th>\n",
       "      <td>User24768</td>\n",
       "      <td>Product6914</td>\n",
       "      <td>5</td>\n",
       "      <td>1627781180</td>\n",
       "    </tr>\n",
       "    <tr>\n",
       "      <th>100073</th>\n",
       "      <td>User9547</td>\n",
       "      <td>Product2205</td>\n",
       "      <td>3</td>\n",
       "      <td>1501029965</td>\n",
       "    </tr>\n",
       "    <tr>\n",
       "      <th>100074</th>\n",
       "      <td>User47066</td>\n",
       "      <td>Product4386</td>\n",
       "      <td>2</td>\n",
       "      <td>1311893418</td>\n",
       "    </tr>\n",
       "    <tr>\n",
       "      <th>100075</th>\n",
       "      <td>User26984</td>\n",
       "      <td>Product3638</td>\n",
       "      <td>4</td>\n",
       "      <td>1274091928</td>\n",
       "    </tr>\n",
       "  </tbody>\n",
       "</table>\n",
       "</div>"
      ],
      "text/plain": [
       "           UserId    ProductId  Rating   Timestamp\n",
       "100071  User28844  Product7689       5  1528133693\n",
       "100072  User24768  Product6914       5  1627781180\n",
       "100073   User9547  Product2205       3  1501029965\n",
       "100074  User47066  Product4386       2  1311893418\n",
       "100075  User26984  Product3638       4  1274091928"
      ]
     },
     "execution_count": 5,
     "metadata": {},
     "output_type": "execute_result"
    }
   ],
   "source": [
    "data.tail()"
   ]
  },
  {
   "cell_type": "code",
   "execution_count": 7,
   "id": "55e02022-00dc-4ac2-bf77-aab5c4e5ebd8",
   "metadata": {},
   "outputs": [
    {
     "name": "stdout",
     "output_type": "stream",
     "text": [
      "<class 'pandas.core.frame.DataFrame'>\n",
      "RangeIndex: 100076 entries, 0 to 100075\n",
      "Data columns (total 4 columns):\n",
      " #   Column     Non-Null Count   Dtype \n",
      "---  ------     --------------   ----- \n",
      " 0   UserId     100076 non-null  object\n",
      " 1   ProductId  100076 non-null  object\n",
      " 2   Rating     100076 non-null  int64 \n",
      " 3   Timestamp  100076 non-null  int64 \n",
      "dtypes: int64(2), object(2)\n",
      "memory usage: 3.1+ MB\n"
     ]
    }
   ],
   "source": [
    "data.info()"
   ]
  },
  {
   "cell_type": "code",
   "execution_count": 9,
   "id": "5a6ac169-bcff-4a23-b98f-9957b306759e",
   "metadata": {},
   "outputs": [
    {
     "data": {
      "text/html": [
       "<div>\n",
       "<style scoped>\n",
       "    .dataframe tbody tr th:only-of-type {\n",
       "        vertical-align: middle;\n",
       "    }\n",
       "\n",
       "    .dataframe tbody tr th {\n",
       "        vertical-align: top;\n",
       "    }\n",
       "\n",
       "    .dataframe thead th {\n",
       "        text-align: right;\n",
       "    }\n",
       "</style>\n",
       "<table border=\"1\" class=\"dataframe\">\n",
       "  <thead>\n",
       "    <tr style=\"text-align: right;\">\n",
       "      <th></th>\n",
       "      <th>UserId</th>\n",
       "      <th>ProductId</th>\n",
       "      <th>Rating</th>\n",
       "      <th>Timestamp</th>\n",
       "    </tr>\n",
       "  </thead>\n",
       "  <tbody>\n",
       "    <tr>\n",
       "      <th>0</th>\n",
       "      <td>User44084</td>\n",
       "      <td>Product8646</td>\n",
       "      <td>3</td>\n",
       "      <td>1513224892</td>\n",
       "    </tr>\n",
       "    <tr>\n",
       "      <th>1</th>\n",
       "      <td>User32096</td>\n",
       "      <td>Product2879</td>\n",
       "      <td>3</td>\n",
       "      <td>1396046321</td>\n",
       "    </tr>\n",
       "    <tr>\n",
       "      <th>2</th>\n",
       "      <td>User48182</td>\n",
       "      <td>Product2150</td>\n",
       "      <td>3</td>\n",
       "      <td>1430840372</td>\n",
       "    </tr>\n",
       "    <tr>\n",
       "      <th>3</th>\n",
       "      <td>User48214</td>\n",
       "      <td>Product4226</td>\n",
       "      <td>4</td>\n",
       "      <td>1264279238</td>\n",
       "    </tr>\n",
       "    <tr>\n",
       "      <th>4</th>\n",
       "      <td>User27633</td>\n",
       "      <td>Product5750</td>\n",
       "      <td>3</td>\n",
       "      <td>1530777749</td>\n",
       "    </tr>\n",
       "    <tr>\n",
       "      <th>...</th>\n",
       "      <td>...</td>\n",
       "      <td>...</td>\n",
       "      <td>...</td>\n",
       "      <td>...</td>\n",
       "    </tr>\n",
       "    <tr>\n",
       "      <th>100071</th>\n",
       "      <td>User28844</td>\n",
       "      <td>Product7689</td>\n",
       "      <td>5</td>\n",
       "      <td>1528133693</td>\n",
       "    </tr>\n",
       "    <tr>\n",
       "      <th>100072</th>\n",
       "      <td>User24768</td>\n",
       "      <td>Product6914</td>\n",
       "      <td>5</td>\n",
       "      <td>1627781180</td>\n",
       "    </tr>\n",
       "    <tr>\n",
       "      <th>100073</th>\n",
       "      <td>User9547</td>\n",
       "      <td>Product2205</td>\n",
       "      <td>3</td>\n",
       "      <td>1501029965</td>\n",
       "    </tr>\n",
       "    <tr>\n",
       "      <th>100074</th>\n",
       "      <td>User47066</td>\n",
       "      <td>Product4386</td>\n",
       "      <td>2</td>\n",
       "      <td>1311893418</td>\n",
       "    </tr>\n",
       "    <tr>\n",
       "      <th>100075</th>\n",
       "      <td>User26984</td>\n",
       "      <td>Product3638</td>\n",
       "      <td>4</td>\n",
       "      <td>1274091928</td>\n",
       "    </tr>\n",
       "  </tbody>\n",
       "</table>\n",
       "<p>100076 rows × 4 columns</p>\n",
       "</div>"
      ],
      "text/plain": [
       "           UserId    ProductId  Rating   Timestamp\n",
       "0       User44084  Product8646       3  1513224892\n",
       "1       User32096  Product2879       3  1396046321\n",
       "2       User48182  Product2150       3  1430840372\n",
       "3       User48214  Product4226       4  1264279238\n",
       "4       User27633  Product5750       3  1530777749\n",
       "...           ...          ...     ...         ...\n",
       "100071  User28844  Product7689       5  1528133693\n",
       "100072  User24768  Product6914       5  1627781180\n",
       "100073   User9547  Product2205       3  1501029965\n",
       "100074  User47066  Product4386       2  1311893418\n",
       "100075  User26984  Product3638       4  1274091928\n",
       "\n",
       "[100076 rows x 4 columns]"
      ]
     },
     "execution_count": 9,
     "metadata": {},
     "output_type": "execute_result"
    }
   ],
   "source": [
    "data"
   ]
  },
  {
   "cell_type": "code",
   "execution_count": 11,
   "id": "af813b46-7961-4f1e-99f0-c5c75bb59052",
   "metadata": {},
   "outputs": [
    {
     "name": "stdout",
     "output_type": "stream",
     "text": [
      "<class 'pandas.core.frame.DataFrame'>\n",
      "(100076, 4)\n"
     ]
    }
   ],
   "source": [
    "print(type(data))\n",
    "print(data.shape)"
   ]
  },
  {
   "cell_type": "code",
   "execution_count": 13,
   "id": "5b62b9c0-6d38-43c3-8e1d-bc230591c7fd",
   "metadata": {},
   "outputs": [
    {
     "data": {
      "text/plain": [
       "(100076, 4)"
      ]
     },
     "execution_count": 13,
     "metadata": {},
     "output_type": "execute_result"
    }
   ],
   "source": [
    "data.shape"
   ]
  },
  {
   "cell_type": "code",
   "execution_count": 15,
   "id": "f6866b17-5b5d-4829-867b-f3f90f0f7638",
   "metadata": {},
   "outputs": [
    {
     "data": {
      "text/plain": [
       "UserId       object\n",
       "ProductId    object\n",
       "Rating        int64\n",
       "Timestamp     int64\n",
       "dtype: object"
      ]
     },
     "execution_count": 15,
     "metadata": {},
     "output_type": "execute_result"
    }
   ],
   "source": [
    "data.dtypes"
   ]
  },
  {
   "cell_type": "code",
   "execution_count": 17,
   "id": "d4f919a0-ac2e-4c47-bc29-12a9db70ed77",
   "metadata": {},
   "outputs": [
    {
     "data": {
      "text/plain": [
       "UserId       0\n",
       "ProductId    0\n",
       "Rating       0\n",
       "Timestamp    0\n",
       "dtype: int64"
      ]
     },
     "execution_count": 17,
     "metadata": {},
     "output_type": "execute_result"
    }
   ],
   "source": [
    "data.isnull().sum()"
   ]
  },
  {
   "cell_type": "code",
   "execution_count": 28,
   "id": "2a46cf93-502e-40e1-923c-ca3ad4bb166b",
   "metadata": {},
   "outputs": [
    {
     "data": {
      "text/html": [
       "<div>\n",
       "<style scoped>\n",
       "    .dataframe tbody tr th:only-of-type {\n",
       "        vertical-align: middle;\n",
       "    }\n",
       "\n",
       "    .dataframe tbody tr th {\n",
       "        vertical-align: top;\n",
       "    }\n",
       "\n",
       "    .dataframe thead th {\n",
       "        text-align: right;\n",
       "    }\n",
       "</style>\n",
       "<table border=\"1\" class=\"dataframe\">\n",
       "  <thead>\n",
       "    <tr style=\"text-align: right;\">\n",
       "      <th></th>\n",
       "      <th>UserId</th>\n",
       "      <th>ProductId</th>\n",
       "      <th>Rating</th>\n",
       "      <th>Timestamp</th>\n",
       "    </tr>\n",
       "  </thead>\n",
       "  <tbody>\n",
       "  </tbody>\n",
       "</table>\n",
       "</div>"
      ],
      "text/plain": [
       "Empty DataFrame\n",
       "Columns: [UserId, ProductId, Rating, Timestamp]\n",
       "Index: []"
      ]
     },
     "execution_count": 28,
     "metadata": {},
     "output_type": "execute_result"
    }
   ],
   "source": [
    "data[data.duplicated]"
   ]
  },
  {
   "cell_type": "code",
   "execution_count": 19,
   "id": "12533ee7-95d6-40fe-9bf5-b7ceeb604b4a",
   "metadata": {},
   "outputs": [
    {
     "data": {
      "text/html": [
       "<div>\n",
       "<style scoped>\n",
       "    .dataframe tbody tr th:only-of-type {\n",
       "        vertical-align: middle;\n",
       "    }\n",
       "\n",
       "    .dataframe tbody tr th {\n",
       "        vertical-align: top;\n",
       "    }\n",
       "\n",
       "    .dataframe thead th {\n",
       "        text-align: right;\n",
       "    }\n",
       "</style>\n",
       "<table border=\"1\" class=\"dataframe\">\n",
       "  <thead>\n",
       "    <tr style=\"text-align: right;\">\n",
       "      <th></th>\n",
       "      <th>UserId</th>\n",
       "      <th>ProductId</th>\n",
       "      <th>Rating</th>\n",
       "      <th>Timestamp</th>\n",
       "    </tr>\n",
       "  </thead>\n",
       "  <tbody>\n",
       "  </tbody>\n",
       "</table>\n",
       "</div>"
      ],
      "text/plain": [
       "Empty DataFrame\n",
       "Columns: [UserId, ProductId, Rating, Timestamp]\n",
       "Index: []"
      ]
     },
     "execution_count": 19,
     "metadata": {},
     "output_type": "execute_result"
    }
   ],
   "source": [
    "data[data.duplicated(keep = False)]"
   ]
  },
  {
   "cell_type": "code",
   "execution_count": 26,
   "id": "79f1a067-8af3-4d92-979c-35cdfc512dcf",
   "metadata": {},
   "outputs": [
    {
     "data": {
      "text/plain": [
       "<Axes: >"
      ]
     },
     "execution_count": 26,
     "metadata": {},
     "output_type": "execute_result"
    },
    {
     "data": {
      "image/png": "[encoded data removed]",
      "text/plain": [
       "<Figure size 640x480 with 2 Axes>"
      ]
     },
     "metadata": {},
     "output_type": "display_data"
    }
   ],
   "source": [
    "#Visualize data1 missing values using graph\n",
    "cols = data.columns\n",
    "colours = ['Black', 'Yellow']\n",
    "sns.heatmap(data[cols].isnull(),cmap=sns.color_palette(colours),cbar = True)"
   ]
  },
  {
   "cell_type": "markdown",
   "id": "8f47f4f1-e2c3-4cca-9524-9c43f6f27d83",
   "metadata": {},
   "source": [
    "# Observations:\n",
    "- There are no null values in the dataset.\n",
    "- There are no duplicate values in the dataset."
   ]
  },
  {
   "cell_type": "code",
   "execution_count": 22,
   "id": "37642a13-f48f-4693-959e-db5d5fa7ae98",
   "metadata": {},
   "outputs": [
    {
     "name": "stdout",
     "output_type": "stream",
     "text": [
      "Median of Rating:  3.0\n",
      "Mean of Rating:  2.9975618529917263\n"
     ]
    }
   ],
   "source": [
    "median_Rating = data[\"Rating\"].median()\n",
    "mean_Rating = data[\"Rating\"].mean()\n",
    "print(\"Median of Rating: \", median_Rating)\n",
    "print(\"Mean of Rating: \", mean_Rating)"
   ]
  },
  {
   "cell_type": "code",
   "execution_count": 30,
   "id": "9192f3cc-bc33-43f8-bfe5-b615a37e3ef0",
   "metadata": {},
   "outputs": [
    {
     "name": "stdout",
     "output_type": "stream",
     "text": [
      "Median of Timestamp:  1467458944.0\n",
      "Mean of Timestamp:  1467586188.0292277\n"
     ]
    }
   ],
   "source": [
    "median_timestamp = data[\"Timestamp\"].median()\n",
    "mean_timestamp = data[\"Timestamp\"].mean()\n",
    "print(\"Median of Timestamp: \", median_timestamp)\n",
    "print(\"Mean of Timestamp: \", mean_timestamp)"
   ]
  },
  {
   "cell_type": "code",
   "execution_count": 32,
   "id": "6276f167-fe3f-4471-b7a0-6dbaf69f4048",
   "metadata": {},
   "outputs": [
    {
     "name": "stdout",
     "output_type": "stream",
     "text": [
      "Rating\n",
      "2    20193\n",
      "4    20059\n",
      "1    19981\n",
      "5    19926\n",
      "3    19917\n",
      "Name: count, dtype: int64\n",
      "2\n"
     ]
    }
   ],
   "source": [
    "#Find the mode values of categorical column (Rating)\n",
    "print(data[\"Rating\"].value_counts())\n",
    "mode_rating = data[\"Rating\"].mode()[0]\n",
    "print(mode_rating)"
   ]
  },
  {
   "cell_type": "code",
   "execution_count": 34,
   "id": "e6ac93d8-d36f-45cd-a06b-2b24482586d6",
   "metadata": {},
   "outputs": [
    {
     "data": {
      "text/html": [
       "<div>\n",
       "<style scoped>\n",
       "    .dataframe tbody tr th:only-of-type {\n",
       "        vertical-align: middle;\n",
       "    }\n",
       "\n",
       "    .dataframe tbody tr th {\n",
       "        vertical-align: top;\n",
       "    }\n",
       "\n",
       "    .dataframe thead th {\n",
       "        text-align: right;\n",
       "    }\n",
       "</style>\n",
       "<table border=\"1\" class=\"dataframe\">\n",
       "  <thead>\n",
       "    <tr style=\"text-align: right;\">\n",
       "      <th></th>\n",
       "      <th>UserId</th>\n",
       "      <th>ProductId</th>\n",
       "      <th>Rating</th>\n",
       "      <th>Timestamp</th>\n",
       "    </tr>\n",
       "  </thead>\n",
       "  <tbody>\n",
       "    <tr>\n",
       "      <th>0</th>\n",
       "      <td>User44084</td>\n",
       "      <td>Product8646</td>\n",
       "      <td>3</td>\n",
       "      <td>1513224892</td>\n",
       "    </tr>\n",
       "    <tr>\n",
       "      <th>1</th>\n",
       "      <td>User32096</td>\n",
       "      <td>Product2879</td>\n",
       "      <td>3</td>\n",
       "      <td>1396046321</td>\n",
       "    </tr>\n",
       "    <tr>\n",
       "      <th>2</th>\n",
       "      <td>User48182</td>\n",
       "      <td>Product2150</td>\n",
       "      <td>3</td>\n",
       "      <td>1430840372</td>\n",
       "    </tr>\n",
       "    <tr>\n",
       "      <th>3</th>\n",
       "      <td>User48214</td>\n",
       "      <td>Product4226</td>\n",
       "      <td>4</td>\n",
       "      <td>1264279238</td>\n",
       "    </tr>\n",
       "    <tr>\n",
       "      <th>4</th>\n",
       "      <td>User27633</td>\n",
       "      <td>Product5750</td>\n",
       "      <td>3</td>\n",
       "      <td>1530777749</td>\n",
       "    </tr>\n",
       "    <tr>\n",
       "      <th>...</th>\n",
       "      <td>...</td>\n",
       "      <td>...</td>\n",
       "      <td>...</td>\n",
       "      <td>...</td>\n",
       "    </tr>\n",
       "    <tr>\n",
       "      <th>100071</th>\n",
       "      <td>User28844</td>\n",
       "      <td>Product7689</td>\n",
       "      <td>5</td>\n",
       "      <td>1528133693</td>\n",
       "    </tr>\n",
       "    <tr>\n",
       "      <th>100072</th>\n",
       "      <td>User24768</td>\n",
       "      <td>Product6914</td>\n",
       "      <td>5</td>\n",
       "      <td>1627781180</td>\n",
       "    </tr>\n",
       "    <tr>\n",
       "      <th>100073</th>\n",
       "      <td>User9547</td>\n",
       "      <td>Product2205</td>\n",
       "      <td>3</td>\n",
       "      <td>1501029965</td>\n",
       "    </tr>\n",
       "    <tr>\n",
       "      <th>100074</th>\n",
       "      <td>User47066</td>\n",
       "      <td>Product4386</td>\n",
       "      <td>2</td>\n",
       "      <td>1311893418</td>\n",
       "    </tr>\n",
       "    <tr>\n",
       "      <th>100075</th>\n",
       "      <td>User26984</td>\n",
       "      <td>Product3638</td>\n",
       "      <td>4</td>\n",
       "      <td>1274091928</td>\n",
       "    </tr>\n",
       "  </tbody>\n",
       "</table>\n",
       "<p>100076 rows × 4 columns</p>\n",
       "</div>"
      ],
      "text/plain": [
       "           UserId    ProductId  Rating   Timestamp\n",
       "0       User44084  Product8646       3  1513224892\n",
       "1       User32096  Product2879       3  1396046321\n",
       "2       User48182  Product2150       3  1430840372\n",
       "3       User48214  Product4226       4  1264279238\n",
       "4       User27633  Product5750       3  1530777749\n",
       "...           ...          ...     ...         ...\n",
       "100071  User28844  Product7689       5  1528133693\n",
       "100072  User24768  Product6914       5  1627781180\n",
       "100073   User9547  Product2205       3  1501029965\n",
       "100074  User47066  Product4386       2  1311893418\n",
       "100075  User26984  Product3638       4  1274091928\n",
       "\n",
       "[100076 rows x 4 columns]"
      ]
     },
     "execution_count": 34,
     "metadata": {},
     "output_type": "execute_result"
    }
   ],
   "source": [
    "data.reset_index(drop = True)"
   ]
  },
  {
   "cell_type": "code",
   "execution_count": 36,
   "id": "56ffafd6-9025-4f88-9004-847adc774036",
   "metadata": {},
   "outputs": [
    {
     "data": {
      "image/png": "[encoded data removed]",
      "text/plain": [
       "<Figure size 800x600 with 2 Axes>"
      ]
     },
     "metadata": {},
     "output_type": "display_data"
    }
   ],
   "source": [
    "#Create a figure with two subplots, stacked vertically\n",
    "fig, axes = plt.subplots(2,1, figsize=(8,6), gridspec_kw={'height_ratios' : [1,3]})\n",
    "\n",
    "#Plot the boxplot in the first (top) subplot\n",
    "sns.boxplot(data=data[\"Rating\"], ax=axes[0], color='skyblue', width=0.5, orient = 'h')\n",
    "axes[0].set_title(\"Boxplot\")\n",
    "axes[0].set_xlabel(\"Ratings\")\n",
    "\n",
    "#Plot the histogram with KDE curve in the second (bottom) subplot\n",
    "sns.histplot(data[\"Rating\"], kde=True, ax=axes[1], color='purple', bins=30)\n",
    "axes[1].set_title(\"Histogram with KDE\")\n",
    "axes[1].set_xlabel(\"Ratings\")\n",
    "axes[1].set_ylabel(\"Frequency\")\n",
    "\n",
    "#Adjust layout for better spacing\n",
    "plt.tight_layout()\n",
    "\n",
    "#Show the plot\n",
    "plt.show()"
   ]
  },
  {
   "cell_type": "code",
   "execution_count": null,
   "id": "5bbe0290-515f-4032-af41-27f0b4eab638",
   "metadata": {},
   "outputs": [],
   "source": []
  }
 ],
 "metadata": {
  "kernelspec": {
   "display_name": "Python [conda env:base] *",
   "language": "python",
   "name": "conda-base-py"
  },
  "language_info": {
   "codemirror_mode": {
    "name": "ipython",
    "version": 3
   },
   "file_extension": ".py",
   "mimetype": "text/x-python",
   "name": "python",
   "nbconvert_exporter": "python",
   "pygments_lexer": "ipython3",
   "version": "3.12.7"
  }
 },
 "nbformat": 4,
 "nbformat_minor": 5
}
